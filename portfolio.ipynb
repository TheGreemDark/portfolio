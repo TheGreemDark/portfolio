{
  "nbformat": 4,
  "nbformat_minor": 0,
  "metadata": {
    "colab": {
      "provenance": [],
      "authorship_tag": "ABX9TyPNKfNeI/DJYk/MlB1t+amO",
      "include_colab_link": true
    },
    "kernelspec": {
      "name": "python3",
      "display_name": "Python 3"
    },
    "language_info": {
      "name": "python"
    }
  },
  "cells": [
    {
      "cell_type": "markdown",
      "metadata": {
        "id": "view-in-github",
        "colab_type": "text"
      },
      "source": [
        "<a href=\"https://colab.research.google.com/github/TheGreemDark/portfolio/blob/main/portfolio.ipynb\" target=\"_parent\"><img src=\"https://colab.research.google.com/assets/colab-badge.svg\" alt=\"Open In Colab\"/></a>"
      ]
    },
    {
      "cell_type": "markdown",
      "source": [
        "# 1. Контекст:\n",
        "\n",
        "1 семестр обучения в магистратуре ИРиТ-РТФ\n",
        "Проект для профсоюза компании Сбер «Разработка ИИ-агента для помощи в подготовке к ОГЭ»,\n",
        "Команда из пяти человек,\n",
        "Цель – помочь ученикам получить качественную подготовку при сдаче ЕГЭ по физике и получить возможность поступить в ВУЗ.\n",
        "\n",
        "# 2. Роль и задачи:\n",
        "Совмещаю в проекте роли бизнес-аналитика, Product-менеджера, ML-разработчика и визионера на презентациях.\n",
        "\n",
        "# 3. Результат:\n",
        "Сервис должен помочь ученикам эффективнее готовиться к ЕГЭ по физике\n",
        "с помощью ИИ-чата и удобно сформированных блоков обучающих материалов, совмещенных с тестовыми заданиями.\n",
        "\n",
        "# 4. Рефлексия:\n",
        "Осознал важность тестирования прототипа на ЦА, так как полученные данные дают большее представление о том, что хотели бы увидеть пользователи.\n",
        "Таким образом еще до начала проведения основной работы можно сформировать обновленную версию прототипа.\n",
        "\n",
        "# 5. Ссылка на проект:\n",
        "https://github.com/dragInSky/state-exams-agent"
      ],
      "metadata": {
        "id": "HxnbUH-r-rDQ"
      }
    }
  ]
}